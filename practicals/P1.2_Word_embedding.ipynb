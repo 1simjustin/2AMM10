{
  "cells": [
    {
      "cell_type": "markdown",
      "metadata": {
        "id": "view-in-github",
        "colab_type": "text"
      },
      "source": [
        "<a href=\"https://colab.research.google.com/github/1simjustin/2AMM10/blob/master/practicals/P1.2_Word_embedding.ipynb\" target=\"_parent\"><img src=\"https://colab.research.google.com/assets/colab-badge.svg\" alt=\"Open In Colab\"/></a>"
      ]
    },
    {
      "cell_type": "code",
      "execution_count": 1,
      "metadata": {
        "id": "-chC7eeQBXmx"
      },
      "outputs": [],
      "source": [
        "%matplotlib inline"
      ]
    },
    {
      "cell_type": "markdown",
      "metadata": {
        "id": "tRGQwnDOBXmy"
      },
      "source": [
        "# Practical Overview\n",
        "\n",
        " In this Practical you will learn :\n",
        "- Basic concepts of word embeddings.\n",
        "- How to extract word embeddings by N-Gram in a toy example.\n",
        "- How to extract word embeddings by CBoW in a toy example.\n",
        "- How to extract word embeddings by CBoW in `Alice in Wonderland`.\n",
        "- How to perform the analogy task.\n",
        "- Reflecting on the conceptual differences between the CBoW and N-Gram model.\n",
        "\n",
        "We recommend running the practicals of this course in Google Colab. Make sure to go to additional connection options (the small arrow at the top right) -> change runtime type -> a GPU runtime to make use of GPU acceleration."
      ]
    },
    {
      "cell_type": "markdown",
      "metadata": {
        "id": "xJ4nnAY4jR4R"
      },
      "source": [
        "\n",
        "# Word Embeddings: Encoding Lexical Semantics\n",
        "\n",
        "\n",
        "Word embeddings are dense vectors of real numbers, one per word in your\n",
        "vocabulary. In NLP, it is almost always the case that your features are\n",
        "words! But how should you represent a word in a computer? You could\n",
        "store its ascii character representation, but that only tells you what\n",
        "the word *is*, it doesn't say much about what it *means* (you might be\n",
        "able to derive its part of speech from its affixes, or properties from\n",
        "its capitalization, but not much). Even more, in what sense could you\n",
        "combine these representations? We often want dense outputs from our\n",
        "neural networks, where the inputs are $|V|$ dimensional, where\n",
        "$V$ is our vocabulary, but often the outputs are only a few\n",
        "dimensional (if we are only predicting a handful of labels, for\n",
        "instance). How do we get from a massive dimensional space to a smaller\n",
        "dimensional space?\n",
        "\n",
        "How about instead of ascii representations, we use a one-hot encoding?\n",
        "That is, we represent the word $w$ by\n",
        "$$\n",
        "\\begin{align}\n",
        "\\overbrace{\\left[ 0, 0, \\dots, 1, \\dots, 0, 0 \\right]}^\\text{|V| elements}\n",
        "\\end{align}\n",
        "$$\n",
        "\n",
        "where the 1 is in a location unique to $w$. Any other word will\n",
        "have a 1 in some other location, and a 0 everywhere else.\n",
        "\n",
        "There is an enormous drawback to this representation, besides just how\n",
        "huge it is. It basically treats all words as independent entities with\n",
        "no relation to each other. What we really want is some notion of\n",
        "*similarity* between words. Why? Let's see an example.\n",
        "\n",
        "Suppose we are building a language model. Suppose we have seen the\n",
        "sentences\n",
        "\n",
        "* The mathematician ran to the store.\n",
        "* The physicist ran to the store.\n",
        "* The mathematician solved the open problem.\n",
        "\n",
        "in our training data. Now suppose we get a new sentence never before\n",
        "seen in our training data:\n",
        "\n",
        "* The physicist solved the open problem.\n",
        "\n",
        "Our language model might do OK on this sentence, but wouldn't it be much\n",
        "better if we could use the following two facts:\n",
        "\n",
        "- We have seen  mathematician and physicist in the same role in a sentence. Somehow they\n",
        "  have a semantic relation.\n",
        "* We have seen mathematician in the same role  in this new unseen sentence\n",
        "  as we are now seeing physicist.\n",
        "\n",
        "and then infer that physicist is actually a good fit in the new unseen\n",
        "sentence? This is what we mean by a notion of similarity: we mean\n",
        "*semantic similarity*, not simply having similar orthographic\n",
        "representations. It is a technique to combat the sparsity of linguistic\n",
        "data, by connecting the dots between what we have seen and what we\n",
        "haven't. This example of course relies on a fundamental linguistic\n",
        "assumption: that words appearing in similar contexts are related to each\n",
        "other semantically. This is called the [distributional\n",
        "hypothesis](https://en.wikipedia.org/wiki/Distributional_semantics).\n"
      ]
    },
    {
      "cell_type": "markdown",
      "metadata": {
        "id": "YC2qpA8IBXm0"
      },
      "source": [
        "# Getting Dense Word Embeddings\n",
        "\n",
        "\n",
        "How can we solve this problem? That is, how could we actually encode\n",
        "semantic similarity in words? Maybe we think up some semantic\n",
        "attributes. For example, we see that both mathematicians and physicists\n",
        "can run, so maybe we give these words a high score for the \"is able to\n",
        "run\" semantic attribute. Think of some other attributes, and imagine\n",
        "what you might score some common words on those attributes.\n",
        "\n",
        "If each attribute is a dimension, then we might give each word a vector,\n",
        "like this:\n",
        "\n",
        "$$\n",
        "\\begin{align}\n",
        "q_\\text{mathematician} = \\left[ \\overbrace{2.3}^\\text{can run},\n",
        "   \\overbrace{9.4}^\\text{likes coffee}, \\overbrace{-5.5}^\\text{majored in Physics}, \\dots \\right]\n",
        " \\end{align}\n",
        "$$\n",
        "\n",
        "$$\n",
        "\\begin{align}\n",
        "q_\\text{physicist} = \\left[ \\overbrace{2.5}^\\text{can run},\n",
        "   \\overbrace{9.1}^\\text{likes coffee}, \\overbrace{6.4}^\\text{majored in Physics}, \\dots \\right]\n",
        "\\end{align}\n",
        "$$\n",
        "\n",
        "Then we can get a measure of similarity between these words by doing:\n",
        "\n",
        "$$\n",
        "\\begin{align}\n",
        "\\text{Similarity}(\\text{physicist}, \\text{mathematician}) = q_\\text{physicist} \\cdot q_\\text{mathematician}\n",
        "\\end{align}\n",
        "$$\n",
        "\n",
        "\n",
        "Although it is more common to normalize by the lengths:\n",
        "\n",
        "\\begin{align}\\text{Similarity}(\\text{physicist}, \\text{mathematician}) = \\frac{q_\\text{physicist} \\cdot q_\\text{mathematician}}\n",
        "   {\\| q_\\text{physicist} \\| \\| q_\\text{mathematician} \\|} = \\cos (\\phi)\\end{align}\n",
        "\n",
        "Where $\\phi$ is the angle between the two vectors. That way,\n",
        "extremely similar words (words whose embeddings point in the same\n",
        "direction) will have similarity 1. Extremely dissimilar words should\n",
        "have similarity -1.\n",
        "\n",
        "\n",
        "\n",
        "You can think of the sparse one-hot vectors from the beginning of this\n",
        "section as a special case of these new vectors we have defined, where\n",
        "each word basically has similarity 0, and we gave each word some unique\n",
        "semantic attribute. These new vectors are *dense*, which is to say their\n",
        "entries are (typically) non-zero.\n",
        "\n",
        "But these new vectors are a big pain: you could think of thousands of\n",
        "different semantic attributes that might be relevant to determining\n",
        "similarity, and how on earth would you set the values of the different\n",
        "attributes? Central to the idea of deep learning is that the neural\n",
        "network learns representations of the features, rather than requiring\n",
        "the programmer to design them herself. So why not just let the word\n",
        "embeddings be parameters in our model, and then be updated during\n",
        "training? This is exactly what we will do. We will have some *latent\n",
        "semantic attributes* that the network can, in principle, learn. Note\n",
        "that the word embeddings will probably not be interpretable. That is,\n",
        "although with our hand-crafted vectors above we can see that\n",
        "mathematicians and physicists are similar in that they both like coffee,\n",
        "if we allow a neural network to learn the embeddings and see that both\n",
        "mathematicians and physicists have a large value in the second\n",
        "dimension, it is not clear what that means. They are similar in some\n",
        "latent semantic dimension, but this probably has no interpretation to\n",
        "us.\n",
        "\n",
        "\n",
        "In summary, **word embeddings are a representation of the *semantics* of\n",
        "a word, efficiently encoding semantic information that might be relevant\n",
        "to the task at hand**. You can embed other things too: part of speech\n",
        "tags, parse trees, anything! The idea of feature embeddings is central\n",
        "to the field.\n"
      ]
    },
    {
      "cell_type": "markdown",
      "metadata": {
        "id": "ViY9tq6aBXm0"
      },
      "source": [
        "# Word Embeddings in Pytorch\n",
        "\n",
        "\n",
        "Before we get to a worked example and an exercise, a few quick notes\n",
        "about how to use embeddings in Pytorch and in deep learning programming\n",
        "in general. Similar to how we defined a unique index for each word when\n",
        "making one-hot vectors, we also need to define an index for each word\n",
        "when using embeddings. These will be keys into a lookup table. That is,\n",
        "embeddings are stored as a $|V| \\times D$ matrix, where $D$\n",
        "is the dimensionality of the embeddings, such that the word assigned\n",
        "index $i$ has its embedding stored in the $i$'th row of the\n",
        "matrix. In all of code, the mapping from words to indices is a\n",
        "dictionary named word\\_to\\_ix.\n",
        "\n",
        "The module that allows you to use embeddings is torch.nn.Embedding,\n",
        "which takes two arguments: the vocabulary size, and the dimensionality\n",
        "of the embeddings.\n",
        "\n",
        "To index into this table, you must use torch.LongTensor (since the\n",
        "indices are integers, not floats).\n",
        "\n"
      ]
    },
    {
      "cell_type": "code",
      "execution_count": 2,
      "metadata": {
        "id": "SN-aYyHOjR4S",
        "colab": {
          "base_uri": "https://localhost:8080/"
        },
        "outputId": "81eb2ddd-7d8b-4060-94fa-062fe11c03e4"
      },
      "outputs": [
        {
          "output_type": "execute_result",
          "data": {
            "text/plain": [
              "<torch._C.Generator at 0x78c8542f28f0>"
            ]
          },
          "metadata": {},
          "execution_count": 2
        }
      ],
      "source": [
        "# The first part of this practical is based on the tutorial by Robert Guthrie, which can be found here:\n",
        "# https://pytorch.org/tutorials/beginner/nlp/word_embeddings_tutorial.html\n",
        "\n",
        "import torch\n",
        "import torch.nn as nn\n",
        "import torch.nn.functional as F\n",
        "import torch.optim as optim\n",
        "import numpy as np\n",
        "torch.manual_seed(1)"
      ]
    },
    {
      "cell_type": "code",
      "execution_count": 3,
      "metadata": {
        "id": "Ki4s4m9IjR4T",
        "colab": {
          "base_uri": "https://localhost:8080/"
        },
        "outputId": "873f82aa-e125-438c-d36c-7f52edf9b838"
      },
      "outputs": [
        {
          "output_type": "stream",
          "name": "stdout",
          "text": [
            "tensor([[ 0.6614,  0.2669,  0.0617,  0.6213, -0.4519]],\n",
            "       grad_fn=<EmbeddingBackward0>)\n"
          ]
        }
      ],
      "source": [
        "word_to_ix = {\"hello\": 0, \"world\": 1}\n",
        "embeds = nn.Embedding(2, 5)  # 2 words in vocab, 5 dimensional embeddings\n",
        "lookup_tensor = torch.tensor([word_to_ix[\"hello\"]], dtype=torch.long)\n",
        "hello_embed = embeds(lookup_tensor)\n",
        "print(hello_embed)"
      ]
    },
    {
      "cell_type": "markdown",
      "metadata": {
        "id": "uzIyUMPKjR4U"
      },
      "source": [
        "# Getting started:  N-Gram Language Modeling in a Toy example\n",
        "\n",
        "\n",
        "Recall that in an n-gram language model, given a sequence of words\n",
        "$w$, we want to compute\n",
        "\n",
        "\\begin{align}P(w_i | w_{i-1}, w_{i-2}, \\dots, w_{i-n+1} )\\end{align}\n",
        "\n",
        "Where $w_i$ is the ith word of the sequence.\n",
        "\n",
        "In this example, we will compute the loss function on some training\n",
        "examples and update the parameters with backpropagation.\n",
        "\n",
        "\n"
      ]
    },
    {
      "cell_type": "markdown",
      "metadata": {
        "id": "CfpvpSmWBXm1"
      },
      "source": [
        "##  Data Preprocessing\n",
        "\n",
        "Before we can use the data in our model, we should build a list of tuples.  Each tuple is `([ word_i-2, word_i-1 ], target word)`, we also build dictionaries to map from words to indices, i.e. word_to_ix, and map from indices to words, i.e. ix_to_word,"
      ]
    },
    {
      "cell_type": "code",
      "execution_count": 4,
      "metadata": {
        "colab": {
          "base_uri": "https://localhost:8080/"
        },
        "id": "gmY7TKnzBXm1",
        "outputId": "36f4d5bc-d4d0-4ce8-fedd-596b8bfa24d7"
      },
      "outputs": [
        {
          "output_type": "stream",
          "name": "stdout",
          "text": [
            "[(['When', 'forty'], 'winters'), (['forty', 'winters'], 'shall'), (['winters', 'shall'], 'besiege')]\n"
          ]
        }
      ],
      "source": [
        "CONTEXT_SIZE = 2   # a 2-gram language model\n",
        "\n",
        "# We will use Shakespeare Sonnet 2\n",
        "test_sentence = \"\"\"When forty winters shall besiege thy brow,\n",
        "And dig deep trenches in thy beauty's field,\n",
        "Thy youth's proud livery so gazed on now,\n",
        "Will be a totter'd weed of small worth held:\n",
        "Then being asked, where all thy beauty lies,\n",
        "Where all the treasure of thy lusty days;\n",
        "To say, within thine own deep sunken eyes,\n",
        "Were an all-eating shame, and thriftless praise.\n",
        "How much more praise deserv'd thy beauty's use,\n",
        "If thou couldst answer 'This fair child of mine\n",
        "Shall sum my count, and make my old excuse,'\n",
        "Proving his beauty by succession thine!\n",
        "This were to be new made when thou art old,\n",
        "And see thy blood warm when thou feel'st it cold.\"\"\".split()\n",
        "# we should tokenize the input, but we will ignore that for now\n",
        "# build a list of tuples.  Each tuple is ([ word_i-2, word_i-1 ], target word)\n",
        "trigrams = [([test_sentence[i], test_sentence[i + 1]], test_sentence[i + 2])\n",
        "            for i in range(len(test_sentence) - 2)]\n",
        "# print the first 3, just so you can see what they look like\n",
        "print(trigrams[:3])\n",
        "\n",
        "\n",
        "vocab = set(test_sentence)\n",
        "word_to_ix = {word: i for i, word in enumerate(vocab)}\n",
        "ix_to_word = {ix:word for ix, word in enumerate(vocab)}\n"
      ]
    },
    {
      "cell_type": "markdown",
      "metadata": {
        "id": "rh0gNSxUBXm1"
      },
      "source": [
        "## Create N-Gram model\n",
        "We create N-Gram language model, and set the word embedding size to be 100 (or other by your preference)"
      ]
    },
    {
      "cell_type": "code",
      "execution_count": 5,
      "metadata": {
        "id": "cAWWomBFjR4V",
        "scrolled": true,
        "colab": {
          "base_uri": "https://localhost:8080/"
        },
        "outputId": "9a458897-5531-40e5-8d5b-74cc7714c3f1"
      },
      "outputs": [
        {
          "output_type": "stream",
          "name": "stdout",
          "text": [
            "Epoch: 0 \tLoss: 4.619468684745046\n",
            "Epoch: 1 \tLoss: 4.568371317027944\n",
            "Epoch: 2 \tLoss: 4.5178163579079955\n",
            "Epoch: 3 \tLoss: 4.467824248086035\n",
            "Epoch: 4 \tLoss: 4.418137090396037\n",
            "Epoch: 5 \tLoss: 4.368773722015651\n",
            "Epoch: 6 \tLoss: 4.3197529083859605\n",
            "Epoch: 7 \tLoss: 4.270979117503209\n",
            "Epoch: 8 \tLoss: 4.222435972331899\n",
            "Epoch: 9 \tLoss: 4.173980341548413\n",
            "Epoch: 10 \tLoss: 4.125565161747215\n",
            "Epoch: 11 \tLoss: 4.077260160868147\n",
            "Epoch: 12 \tLoss: 4.028886655790616\n",
            "Epoch: 13 \tLoss: 3.9805072851940593\n",
            "Epoch: 14 \tLoss: 3.9319430389235506\n",
            "Epoch: 15 \tLoss: 3.883322627143522\n",
            "Epoch: 16 \tLoss: 3.8344624295698857\n",
            "Epoch: 17 \tLoss: 3.78520825267893\n",
            "Epoch: 18 \tLoss: 3.7357213476062876\n",
            "Epoch: 19 \tLoss: 3.685815650804908\n",
            "Epoch: 20 \tLoss: 3.6354871049391484\n",
            "Epoch: 21 \tLoss: 3.5847066187225614\n",
            "Epoch: 22 \tLoss: 3.5334270000457764\n",
            "Epoch: 23 \tLoss: 3.4818865778171912\n",
            "Epoch: 24 \tLoss: 3.42987139457095\n",
            "Epoch: 25 \tLoss: 3.377525387612064\n",
            "Epoch: 26 \tLoss: 3.324656061366596\n",
            "Epoch: 27 \tLoss: 3.271459161707785\n",
            "Epoch: 28 \tLoss: 3.2178459863747118\n",
            "Epoch: 29 \tLoss: 3.163784179012332\n",
            "Epoch: 30 \tLoss: 3.1095401449541074\n",
            "Epoch: 31 \tLoss: 3.0550160988242223\n",
            "Epoch: 32 \tLoss: 3.000360827002905\n",
            "Epoch: 33 \tLoss: 2.945402274617052\n",
            "Epoch: 34 \tLoss: 2.8903664862160134\n",
            "Epoch: 35 \tLoss: 2.8349327840636263\n",
            "Epoch: 36 \tLoss: 2.779333389438359\n",
            "Epoch: 37 \tLoss: 2.723589741023241\n",
            "Epoch: 38 \tLoss: 2.6675940282576907\n",
            "Epoch: 39 \tLoss: 2.6116207785311\n",
            "Epoch: 40 \tLoss: 2.555212713448347\n",
            "Epoch: 41 \tLoss: 2.498890907891029\n",
            "Epoch: 42 \tLoss: 2.4422753759190043\n",
            "Epoch: 43 \tLoss: 2.385514320525448\n",
            "Epoch: 44 \tLoss: 2.3287864723036775\n",
            "Epoch: 45 \tLoss: 2.271939105692163\n",
            "Epoch: 46 \tLoss: 2.2152381607916505\n",
            "Epoch: 47 \tLoss: 2.1584763724719527\n",
            "Epoch: 48 \tLoss: 2.1018863800352654\n",
            "Epoch: 49 \tLoss: 2.0453519478308415\n",
            "Epoch: 50 \tLoss: 1.9890421759502022\n",
            "Epoch: 51 \tLoss: 1.9330297095321975\n",
            "Epoch: 52 \tLoss: 1.8774207392625049\n",
            "Epoch: 53 \tLoss: 1.8221506736183588\n",
            "Epoch: 54 \tLoss: 1.7673600805280483\n",
            "Epoch: 55 \tLoss: 1.7130509899780813\n",
            "Epoch: 56 \tLoss: 1.6594652902763503\n",
            "Epoch: 57 \tLoss: 1.6064849439184223\n",
            "Epoch: 58 \tLoss: 1.5542429237239128\n",
            "Epoch: 59 \tLoss: 1.5028025696499159\n",
            "Epoch: 60 \tLoss: 1.4522384693928525\n",
            "Epoch: 61 \tLoss: 1.4026546793437638\n",
            "Epoch: 62 \tLoss: 1.3539638437528525\n",
            "Epoch: 63 \tLoss: 1.3063818725336969\n",
            "Epoch: 64 \tLoss: 1.2598523525273906\n",
            "Epoch: 65 \tLoss: 1.2143368753975472\n",
            "Epoch: 66 \tLoss: 1.1701459213431957\n",
            "Epoch: 67 \tLoss: 1.1269186092293368\n",
            "Epoch: 68 \tLoss: 1.085119536097071\n",
            "Epoch: 69 \tLoss: 1.0444272993940167\n",
            "Epoch: 70 \tLoss: 1.0050600809333599\n",
            "Epoch: 71 \tLoss: 0.9669176613730667\n",
            "Epoch: 72 \tLoss: 0.9300976008572409\n",
            "Epoch: 73 \tLoss: 0.894547855893595\n",
            "Epoch: 74 \tLoss: 0.8602093843232214\n",
            "Epoch: 75 \tLoss: 0.8272733241319656\n",
            "Epoch: 76 \tLoss: 0.7954688521217456\n",
            "Epoch: 77 \tLoss: 0.7649591271724321\n",
            "Epoch: 78 \tLoss: 0.7356999487476011\n",
            "Epoch: 79 \tLoss: 0.7075788618057175\n",
            "Epoch: 80 \tLoss: 0.6806771967527085\n",
            "Epoch: 81 \tLoss: 0.6548900937216472\n",
            "Epoch: 82 \tLoss: 0.6303062614350192\n",
            "Epoch: 83 \tLoss: 0.6067029050493662\n",
            "Epoch: 84 \tLoss: 0.5842573152838555\n",
            "Epoch: 85 \tLoss: 0.5627968202518151\n",
            "Epoch: 86 \tLoss: 0.5423011580663445\n",
            "Epoch: 87 \tLoss: 0.52275648851574\n",
            "Epoch: 88 \tLoss: 0.5041242620322557\n",
            "Epoch: 89 \tLoss: 0.4863743348854833\n",
            "Epoch: 90 \tLoss: 0.4694354870414312\n",
            "Epoch: 91 \tLoss: 0.4533152465535476\n",
            "Epoch: 92 \tLoss: 0.43795865365361747\n",
            "Epoch: 93 \tLoss: 0.42332817047043186\n",
            "Epoch: 94 \tLoss: 0.4093676453406832\n",
            "Epoch: 95 \tLoss: 0.39607722127595835\n",
            "Epoch: 96 \tLoss: 0.38341902018384594\n",
            "Epoch: 97 \tLoss: 0.37135113162540756\n",
            "Epoch: 98 \tLoss: 0.3598617390127836\n",
            "Epoch: 99 \tLoss: 0.3488687810908377\n"
          ]
        }
      ],
      "source": [
        "EMBEDDING_DIM = 100\n",
        "\n",
        "class NGramLanguageModeler(nn.Module):\n",
        "\n",
        "    def __init__(self, vocab_size, embedding_dim, context_size):\n",
        "        super().__init__()\n",
        "        self.embeddings = nn.Embedding(vocab_size, embedding_dim)\n",
        "        self.linear1 = nn.Linear(context_size * embedding_dim, 128)\n",
        "        self.linear2 = nn.Linear(128, vocab_size)\n",
        "\n",
        "    def forward(self, inputs):\n",
        "        embeds = self.embeddings(inputs).view((1, -1))\n",
        "        out = F.relu(self.linear1(embeds))\n",
        "        out = self.linear2(out)\n",
        "        log_probs = F.log_softmax(out, dim=1)\n",
        "        return log_probs\n",
        "\n",
        "\n",
        "\n",
        "loss_function = nn.NLLLoss()\n",
        "model = NGramLanguageModeler(len(vocab), EMBEDDING_DIM, CONTEXT_SIZE)\n",
        "optimizer = optim.SGD(model.parameters(), lr=0.001)\n",
        "\n",
        "for epoch in range(100):\n",
        "    total_loss = 0\n",
        "    for context, target in trigrams:\n",
        "\n",
        "        # Step 1. Prepare the inputs to be passed to the model (i.e, turn the words\n",
        "        # into integer indices and wrap them in tensors)\n",
        "        context_idxs = torch.tensor([word_to_ix[w] for w in context], dtype=torch.long)\n",
        "\n",
        "        # Step 2. Recall that torch *accumulates* gradients. Before passing in a\n",
        "        # new instance, you need to zero out the gradients from the old\n",
        "        # instance\n",
        "        model.zero_grad()\n",
        "\n",
        "        # Step 3. Run the forward pass, getting log probabilities over next\n",
        "        # words\n",
        "        log_probs = model(context_idxs)\n",
        "\n",
        "        # Step 4. Compute your loss function. (Again, Torch wants the target\n",
        "        # word wrapped in a tensor)\n",
        "        loss = loss_function(log_probs, torch.tensor([word_to_ix[target]], dtype=torch.long))\n",
        "\n",
        "        # Step 5. Do the backward pass and update the gradient\n",
        "        loss.backward()\n",
        "        optimizer.step()\n",
        "\n",
        "        # Get the Python number from a 1-element Tensor by calling tensor.item()\n",
        "        total_loss += loss.item()\n",
        "    average_loss= total_loss/len(trigrams)\n",
        "    print('Epoch:', epoch, '\\tLoss:', average_loss)  # The loss decreased every iteration over the training data!"
      ]
    },
    {
      "cell_type": "markdown",
      "metadata": {
        "id": "0Hi7EDDyBXm2"
      },
      "source": [
        "##  Check the results"
      ]
    },
    {
      "cell_type": "markdown",
      "metadata": {
        "id": "TpWvMm-7BXm2"
      },
      "source": [
        "We can inspect some of the word embedding values in a pandas DataFrame:"
      ]
    },
    {
      "cell_type": "code",
      "execution_count": 6,
      "metadata": {
        "scrolled": true,
        "colab": {
          "base_uri": "https://localhost:8080/",
          "height": 255
        },
        "id": "FgyWfe39BXm2",
        "outputId": "49178da0-2ccf-4fac-aaca-bbcd614e2a71"
      },
      "outputs": [
        {
          "output_type": "execute_result",
          "data": {
            "text/plain": [
              "               0         1         2         3         4         5         6   \\\n",
              "within   0.865134  0.246551 -0.661973  0.811506  0.439695  1.169176  1.769398   \n",
              "praise   0.156903  1.257449  1.330877 -0.495554 -1.985500  1.799614  0.106496   \n",
              "small    0.225026 -0.571693  1.460414  1.772041 -2.020044  0.425451  0.572211   \n",
              "'This    0.143632  0.204278  1.057452  0.133694  1.402973  0.484647 -0.701449   \n",
              "feel'st -0.375023 -2.412437 -1.277956 -0.062496 -1.233959 -1.064924 -0.384852   \n",
              "\n",
              "               7         8         9   ...        90        91        92  \\\n",
              "within  -0.096070  0.063123 -0.618502  ... -1.479904 -1.136965 -0.102735   \n",
              "praise   0.341406 -0.649261 -0.286383  ... -1.105459 -0.702555  0.232885   \n",
              "small   -1.794413  1.247765  1.273688  ...  0.251169 -0.387036 -0.202856   \n",
              "'This   -0.828157  0.099762  0.194105  ...  0.343855 -0.553057 -0.961201   \n",
              "feel'st  0.379302 -0.211681  0.695343  ...  0.295843 -0.566400  0.729306   \n",
              "\n",
              "               93        94        95        96        97        98        99  \n",
              "within   0.343294 -1.068441 -0.875634  0.205888  0.307085  0.537925 -0.432285  \n",
              "praise   1.915967  1.841609  1.326421 -0.070514  0.343875 -0.654952  1.558984  \n",
              "small   -0.841215 -1.555416 -0.055976  1.200419 -2.290332 -1.016159 -0.889581  \n",
              "'This    0.277427 -0.682884 -0.543148  1.153616 -0.405268  0.975247  1.545309  \n",
              "feel'st -0.549376 -0.804855  0.020267 -0.152303  0.520801 -0.208622 -1.255585  \n",
              "\n",
              "[5 rows x 100 columns]"
            ],
            "text/html": [
              "\n",
              "  <div id=\"df-b3e121e0-39be-4e3f-b23c-98c9b500db1f\" class=\"colab-df-container\">\n",
              "    <div>\n",
              "<style scoped>\n",
              "    .dataframe tbody tr th:only-of-type {\n",
              "        vertical-align: middle;\n",
              "    }\n",
              "\n",
              "    .dataframe tbody tr th {\n",
              "        vertical-align: top;\n",
              "    }\n",
              "\n",
              "    .dataframe thead th {\n",
              "        text-align: right;\n",
              "    }\n",
              "</style>\n",
              "<table border=\"1\" class=\"dataframe\">\n",
              "  <thead>\n",
              "    <tr style=\"text-align: right;\">\n",
              "      <th></th>\n",
              "      <th>0</th>\n",
              "      <th>1</th>\n",
              "      <th>2</th>\n",
              "      <th>3</th>\n",
              "      <th>4</th>\n",
              "      <th>5</th>\n",
              "      <th>6</th>\n",
              "      <th>7</th>\n",
              "      <th>8</th>\n",
              "      <th>9</th>\n",
              "      <th>...</th>\n",
              "      <th>90</th>\n",
              "      <th>91</th>\n",
              "      <th>92</th>\n",
              "      <th>93</th>\n",
              "      <th>94</th>\n",
              "      <th>95</th>\n",
              "      <th>96</th>\n",
              "      <th>97</th>\n",
              "      <th>98</th>\n",
              "      <th>99</th>\n",
              "    </tr>\n",
              "  </thead>\n",
              "  <tbody>\n",
              "    <tr>\n",
              "      <th>within</th>\n",
              "      <td>0.865134</td>\n",
              "      <td>0.246551</td>\n",
              "      <td>-0.661973</td>\n",
              "      <td>0.811506</td>\n",
              "      <td>0.439695</td>\n",
              "      <td>1.169176</td>\n",
              "      <td>1.769398</td>\n",
              "      <td>-0.096070</td>\n",
              "      <td>0.063123</td>\n",
              "      <td>-0.618502</td>\n",
              "      <td>...</td>\n",
              "      <td>-1.479904</td>\n",
              "      <td>-1.136965</td>\n",
              "      <td>-0.102735</td>\n",
              "      <td>0.343294</td>\n",
              "      <td>-1.068441</td>\n",
              "      <td>-0.875634</td>\n",
              "      <td>0.205888</td>\n",
              "      <td>0.307085</td>\n",
              "      <td>0.537925</td>\n",
              "      <td>-0.432285</td>\n",
              "    </tr>\n",
              "    <tr>\n",
              "      <th>praise</th>\n",
              "      <td>0.156903</td>\n",
              "      <td>1.257449</td>\n",
              "      <td>1.330877</td>\n",
              "      <td>-0.495554</td>\n",
              "      <td>-1.985500</td>\n",
              "      <td>1.799614</td>\n",
              "      <td>0.106496</td>\n",
              "      <td>0.341406</td>\n",
              "      <td>-0.649261</td>\n",
              "      <td>-0.286383</td>\n",
              "      <td>...</td>\n",
              "      <td>-1.105459</td>\n",
              "      <td>-0.702555</td>\n",
              "      <td>0.232885</td>\n",
              "      <td>1.915967</td>\n",
              "      <td>1.841609</td>\n",
              "      <td>1.326421</td>\n",
              "      <td>-0.070514</td>\n",
              "      <td>0.343875</td>\n",
              "      <td>-0.654952</td>\n",
              "      <td>1.558984</td>\n",
              "    </tr>\n",
              "    <tr>\n",
              "      <th>small</th>\n",
              "      <td>0.225026</td>\n",
              "      <td>-0.571693</td>\n",
              "      <td>1.460414</td>\n",
              "      <td>1.772041</td>\n",
              "      <td>-2.020044</td>\n",
              "      <td>0.425451</td>\n",
              "      <td>0.572211</td>\n",
              "      <td>-1.794413</td>\n",
              "      <td>1.247765</td>\n",
              "      <td>1.273688</td>\n",
              "      <td>...</td>\n",
              "      <td>0.251169</td>\n",
              "      <td>-0.387036</td>\n",
              "      <td>-0.202856</td>\n",
              "      <td>-0.841215</td>\n",
              "      <td>-1.555416</td>\n",
              "      <td>-0.055976</td>\n",
              "      <td>1.200419</td>\n",
              "      <td>-2.290332</td>\n",
              "      <td>-1.016159</td>\n",
              "      <td>-0.889581</td>\n",
              "    </tr>\n",
              "    <tr>\n",
              "      <th>'This</th>\n",
              "      <td>0.143632</td>\n",
              "      <td>0.204278</td>\n",
              "      <td>1.057452</td>\n",
              "      <td>0.133694</td>\n",
              "      <td>1.402973</td>\n",
              "      <td>0.484647</td>\n",
              "      <td>-0.701449</td>\n",
              "      <td>-0.828157</td>\n",
              "      <td>0.099762</td>\n",
              "      <td>0.194105</td>\n",
              "      <td>...</td>\n",
              "      <td>0.343855</td>\n",
              "      <td>-0.553057</td>\n",
              "      <td>-0.961201</td>\n",
              "      <td>0.277427</td>\n",
              "      <td>-0.682884</td>\n",
              "      <td>-0.543148</td>\n",
              "      <td>1.153616</td>\n",
              "      <td>-0.405268</td>\n",
              "      <td>0.975247</td>\n",
              "      <td>1.545309</td>\n",
              "    </tr>\n",
              "    <tr>\n",
              "      <th>feel'st</th>\n",
              "      <td>-0.375023</td>\n",
              "      <td>-2.412437</td>\n",
              "      <td>-1.277956</td>\n",
              "      <td>-0.062496</td>\n",
              "      <td>-1.233959</td>\n",
              "      <td>-1.064924</td>\n",
              "      <td>-0.384852</td>\n",
              "      <td>0.379302</td>\n",
              "      <td>-0.211681</td>\n",
              "      <td>0.695343</td>\n",
              "      <td>...</td>\n",
              "      <td>0.295843</td>\n",
              "      <td>-0.566400</td>\n",
              "      <td>0.729306</td>\n",
              "      <td>-0.549376</td>\n",
              "      <td>-0.804855</td>\n",
              "      <td>0.020267</td>\n",
              "      <td>-0.152303</td>\n",
              "      <td>0.520801</td>\n",
              "      <td>-0.208622</td>\n",
              "      <td>-1.255585</td>\n",
              "    </tr>\n",
              "  </tbody>\n",
              "</table>\n",
              "<p>5 rows × 100 columns</p>\n",
              "</div>\n",
              "    <div class=\"colab-df-buttons\">\n",
              "\n",
              "  <div class=\"colab-df-container\">\n",
              "    <button class=\"colab-df-convert\" onclick=\"convertToInteractive('df-b3e121e0-39be-4e3f-b23c-98c9b500db1f')\"\n",
              "            title=\"Convert this dataframe to an interactive table.\"\n",
              "            style=\"display:none;\">\n",
              "\n",
              "  <svg xmlns=\"http://www.w3.org/2000/svg\" height=\"24px\" viewBox=\"0 -960 960 960\">\n",
              "    <path d=\"M120-120v-720h720v720H120Zm60-500h600v-160H180v160Zm220 220h160v-160H400v160Zm0 220h160v-160H400v160ZM180-400h160v-160H180v160Zm440 0h160v-160H620v160ZM180-180h160v-160H180v160Zm440 0h160v-160H620v160Z\"/>\n",
              "  </svg>\n",
              "    </button>\n",
              "\n",
              "  <style>\n",
              "    .colab-df-container {\n",
              "      display:flex;\n",
              "      gap: 12px;\n",
              "    }\n",
              "\n",
              "    .colab-df-convert {\n",
              "      background-color: #E8F0FE;\n",
              "      border: none;\n",
              "      border-radius: 50%;\n",
              "      cursor: pointer;\n",
              "      display: none;\n",
              "      fill: #1967D2;\n",
              "      height: 32px;\n",
              "      padding: 0 0 0 0;\n",
              "      width: 32px;\n",
              "    }\n",
              "\n",
              "    .colab-df-convert:hover {\n",
              "      background-color: #E2EBFA;\n",
              "      box-shadow: 0px 1px 2px rgba(60, 64, 67, 0.3), 0px 1px 3px 1px rgba(60, 64, 67, 0.15);\n",
              "      fill: #174EA6;\n",
              "    }\n",
              "\n",
              "    .colab-df-buttons div {\n",
              "      margin-bottom: 4px;\n",
              "    }\n",
              "\n",
              "    [theme=dark] .colab-df-convert {\n",
              "      background-color: #3B4455;\n",
              "      fill: #D2E3FC;\n",
              "    }\n",
              "\n",
              "    [theme=dark] .colab-df-convert:hover {\n",
              "      background-color: #434B5C;\n",
              "      box-shadow: 0px 1px 3px 1px rgba(0, 0, 0, 0.15);\n",
              "      filter: drop-shadow(0px 1px 2px rgba(0, 0, 0, 0.3));\n",
              "      fill: #FFFFFF;\n",
              "    }\n",
              "  </style>\n",
              "\n",
              "    <script>\n",
              "      const buttonEl =\n",
              "        document.querySelector('#df-b3e121e0-39be-4e3f-b23c-98c9b500db1f button.colab-df-convert');\n",
              "      buttonEl.style.display =\n",
              "        google.colab.kernel.accessAllowed ? 'block' : 'none';\n",
              "\n",
              "      async function convertToInteractive(key) {\n",
              "        const element = document.querySelector('#df-b3e121e0-39be-4e3f-b23c-98c9b500db1f');\n",
              "        const dataTable =\n",
              "          await google.colab.kernel.invokeFunction('convertToInteractive',\n",
              "                                                    [key], {});\n",
              "        if (!dataTable) return;\n",
              "\n",
              "        const docLinkHtml = 'Like what you see? Visit the ' +\n",
              "          '<a target=\"_blank\" href=https://colab.research.google.com/notebooks/data_table.ipynb>data table notebook</a>'\n",
              "          + ' to learn more about interactive tables.';\n",
              "        element.innerHTML = '';\n",
              "        dataTable['output_type'] = 'display_data';\n",
              "        await google.colab.output.renderOutput(dataTable, element);\n",
              "        const docLink = document.createElement('div');\n",
              "        docLink.innerHTML = docLinkHtml;\n",
              "        element.appendChild(docLink);\n",
              "      }\n",
              "    </script>\n",
              "  </div>\n",
              "\n",
              "\n",
              "<div id=\"df-932522ee-b6f3-44fc-817e-e03f4d051350\">\n",
              "  <button class=\"colab-df-quickchart\" onclick=\"quickchart('df-932522ee-b6f3-44fc-817e-e03f4d051350')\"\n",
              "            title=\"Suggest charts\"\n",
              "            style=\"display:none;\">\n",
              "\n",
              "<svg xmlns=\"http://www.w3.org/2000/svg\" height=\"24px\"viewBox=\"0 0 24 24\"\n",
              "     width=\"24px\">\n",
              "    <g>\n",
              "        <path d=\"M19 3H5c-1.1 0-2 .9-2 2v14c0 1.1.9 2 2 2h14c1.1 0 2-.9 2-2V5c0-1.1-.9-2-2-2zM9 17H7v-7h2v7zm4 0h-2V7h2v10zm4 0h-2v-4h2v4z\"/>\n",
              "    </g>\n",
              "</svg>\n",
              "  </button>\n",
              "\n",
              "<style>\n",
              "  .colab-df-quickchart {\n",
              "      --bg-color: #E8F0FE;\n",
              "      --fill-color: #1967D2;\n",
              "      --hover-bg-color: #E2EBFA;\n",
              "      --hover-fill-color: #174EA6;\n",
              "      --disabled-fill-color: #AAA;\n",
              "      --disabled-bg-color: #DDD;\n",
              "  }\n",
              "\n",
              "  [theme=dark] .colab-df-quickchart {\n",
              "      --bg-color: #3B4455;\n",
              "      --fill-color: #D2E3FC;\n",
              "      --hover-bg-color: #434B5C;\n",
              "      --hover-fill-color: #FFFFFF;\n",
              "      --disabled-bg-color: #3B4455;\n",
              "      --disabled-fill-color: #666;\n",
              "  }\n",
              "\n",
              "  .colab-df-quickchart {\n",
              "    background-color: var(--bg-color);\n",
              "    border: none;\n",
              "    border-radius: 50%;\n",
              "    cursor: pointer;\n",
              "    display: none;\n",
              "    fill: var(--fill-color);\n",
              "    height: 32px;\n",
              "    padding: 0;\n",
              "    width: 32px;\n",
              "  }\n",
              "\n",
              "  .colab-df-quickchart:hover {\n",
              "    background-color: var(--hover-bg-color);\n",
              "    box-shadow: 0 1px 2px rgba(60, 64, 67, 0.3), 0 1px 3px 1px rgba(60, 64, 67, 0.15);\n",
              "    fill: var(--button-hover-fill-color);\n",
              "  }\n",
              "\n",
              "  .colab-df-quickchart-complete:disabled,\n",
              "  .colab-df-quickchart-complete:disabled:hover {\n",
              "    background-color: var(--disabled-bg-color);\n",
              "    fill: var(--disabled-fill-color);\n",
              "    box-shadow: none;\n",
              "  }\n",
              "\n",
              "  .colab-df-spinner {\n",
              "    border: 2px solid var(--fill-color);\n",
              "    border-color: transparent;\n",
              "    border-bottom-color: var(--fill-color);\n",
              "    animation:\n",
              "      spin 1s steps(1) infinite;\n",
              "  }\n",
              "\n",
              "  @keyframes spin {\n",
              "    0% {\n",
              "      border-color: transparent;\n",
              "      border-bottom-color: var(--fill-color);\n",
              "      border-left-color: var(--fill-color);\n",
              "    }\n",
              "    20% {\n",
              "      border-color: transparent;\n",
              "      border-left-color: var(--fill-color);\n",
              "      border-top-color: var(--fill-color);\n",
              "    }\n",
              "    30% {\n",
              "      border-color: transparent;\n",
              "      border-left-color: var(--fill-color);\n",
              "      border-top-color: var(--fill-color);\n",
              "      border-right-color: var(--fill-color);\n",
              "    }\n",
              "    40% {\n",
              "      border-color: transparent;\n",
              "      border-right-color: var(--fill-color);\n",
              "      border-top-color: var(--fill-color);\n",
              "    }\n",
              "    60% {\n",
              "      border-color: transparent;\n",
              "      border-right-color: var(--fill-color);\n",
              "    }\n",
              "    80% {\n",
              "      border-color: transparent;\n",
              "      border-right-color: var(--fill-color);\n",
              "      border-bottom-color: var(--fill-color);\n",
              "    }\n",
              "    90% {\n",
              "      border-color: transparent;\n",
              "      border-bottom-color: var(--fill-color);\n",
              "    }\n",
              "  }\n",
              "</style>\n",
              "\n",
              "  <script>\n",
              "    async function quickchart(key) {\n",
              "      const quickchartButtonEl =\n",
              "        document.querySelector('#' + key + ' button');\n",
              "      quickchartButtonEl.disabled = true;  // To prevent multiple clicks.\n",
              "      quickchartButtonEl.classList.add('colab-df-spinner');\n",
              "      try {\n",
              "        const charts = await google.colab.kernel.invokeFunction(\n",
              "            'suggestCharts', [key], {});\n",
              "      } catch (error) {\n",
              "        console.error('Error during call to suggestCharts:', error);\n",
              "      }\n",
              "      quickchartButtonEl.classList.remove('colab-df-spinner');\n",
              "      quickchartButtonEl.classList.add('colab-df-quickchart-complete');\n",
              "    }\n",
              "    (() => {\n",
              "      let quickchartButtonEl =\n",
              "        document.querySelector('#df-932522ee-b6f3-44fc-817e-e03f4d051350 button');\n",
              "      quickchartButtonEl.style.display =\n",
              "        google.colab.kernel.accessAllowed ? 'block' : 'none';\n",
              "    })();\n",
              "  </script>\n",
              "</div>\n",
              "\n",
              "    </div>\n",
              "  </div>\n"
            ],
            "application/vnd.google.colaboratory.intrinsic+json": {
              "type": "dataframe"
            }
          },
          "metadata": {},
          "execution_count": 6
        }
      ],
      "source": [
        "import pandas as pd\n",
        "embeddings = model.embeddings(torch.Tensor([list(range(0,len(vocab)))]).long())\n",
        "embeddings = embeddings.view(-1,100)\n",
        "pd.DataFrame(embeddings.tolist(), index=list(ix_to_word.values())[0:]).head()"
      ]
    },
    {
      "cell_type": "markdown",
      "metadata": {
        "id": "jnD4jViaBXm2"
      },
      "source": [
        "We can also plot the embeddings with TSNE to visualize the similarity"
      ]
    },
    {
      "cell_type": "code",
      "execution_count": 7,
      "metadata": {
        "id": "JNdiP7zJBXm2"
      },
      "outputs": [],
      "source": [
        "labels=[]\n",
        "for i in range(len(ix_to_word)):\n",
        "    labels.append(ix_to_word[i])"
      ]
    },
    {
      "cell_type": "code",
      "execution_count": 8,
      "metadata": {
        "scrolled": true,
        "colab": {
          "base_uri": "https://localhost:8080/",
          "height": 830
        },
        "id": "wGDKhHn6BXm2",
        "outputId": "6abb8b60-4102-429f-f13b-7dc952142b66"
      },
      "outputs": [
        {
          "output_type": "display_data",
          "data": {
            "text/plain": [
              "<Figure size 1000x1000 with 1 Axes>"
            ],
            "image/png": "[encoded data removed]"
          },
          "metadata": {}
        }
      ],
      "source": [
        "from matplotlib import pylab\n",
        "from sklearn.manifold import TSNE\n",
        "\n",
        "tsne = TSNE(n_components=2)\n",
        "two_d_embeddings = tsne.fit_transform(embeddings.detach().numpy())\n",
        "\n",
        "def plot(embeddings, labels):\n",
        "      assert embeddings.shape[0] >= len(labels), 'More labels than embeddings'\n",
        "      pylab.figure(figsize=(10,10))  # in inches\n",
        "      for i, label in enumerate(labels):\n",
        "        x, y = embeddings[i,:]\n",
        "        pylab.scatter(x, y)\n",
        "        pylab.annotate(label, xy=(x, y), xytext=(5, 2), textcoords='offset points',\n",
        "                       ha='right', va='bottom')\n",
        "      pylab.show()\n",
        "\n",
        "\n",
        "plot(two_d_embeddings, labels)"
      ]
    },
    {
      "cell_type": "code",
      "execution_count": 9,
      "metadata": {
        "colab": {
          "base_uri": "https://localhost:8080/"
        },
        "id": "TH-OrIdcBXm2",
        "outputId": "6bd96a51-ffec-4131-b59f-b3aa174655d5"
      },
      "outputs": [
        {
          "output_type": "stream",
          "name": "stdout",
          "text": [
            "Raw text: When forty winters shall besiege thy brow, And dig deep trenches in thy beauty's field, Thy youth's proud livery so gazed on now, Will be a totter'd weed of small worth held: Then being asked, where all thy beauty lies, Where all the treasure of thy lusty days; To say, within thine own deep sunken eyes, Were an all-eating shame, and thriftless praise. How much more praise deserv'd thy beauty's use, If thou couldst answer 'This fair child of mine Shall sum my count, and make my old excuse,' Proving his beauty by succession thine! This were to be new made when thou art old, And see thy blood warm when thou feel'st it cold.\n",
            "\n",
            "Context: ['When', 'forty']\n",
            "\n",
            "Prediction: winters\n"
          ]
        }
      ],
      "source": [
        "context = ['When','forty']\n",
        "\n",
        "a = model(torch.tensor([word_to_ix[w] for w in context]))\n",
        "\n",
        "#Print result\n",
        "print(f'Raw text: {\" \".join(test_sentence)}\\n')\n",
        "print(f'Context: {context}\\n')\n",
        "print(f'Prediction: {ix_to_word[torch.argmax(a[0]).item()]}')"
      ]
    },
    {
      "cell_type": "markdown",
      "metadata": {
        "id": "TuCM5LSqjR4V"
      },
      "source": [
        "# Practical part  1: Computing Word Embeddings -- Continuous Bag-of-Words in a Toy example\n",
        "\n",
        "\n",
        "The Continuous Bag-of-Words model (CBOW) is frequently used in NLP deep\n",
        "learning. It is a model that tries to predict words given the context of\n",
        "a few words before and a few words after the target word. This is\n",
        "distinct from typical practices in language modeling, since CBOW is not sequential and does\n",
        "not have to be probabilistic. Typcially, CBOW is used to quickly train\n",
        "word embeddings, and these embeddings are used to initialize the\n",
        "embeddings of some more complicated model. Usually, this is referred to\n",
        "as *pretraining embeddings*. It almost always helps performance a couple\n",
        "of percent.\n",
        "\n",
        "The CBOW model is as follows. Given a target word $w_i$ and an\n",
        "$N$ context window on each side, $w_{i-1}, \\dots, w_{i-N}$\n",
        "and $w_{i+1}, \\dots, w_{i+N}$, referring to all context words\n",
        "collectively as $C$, CBOW tries to minimize\n",
        "\n",
        "\\begin{align}-\\log p(w_i | C) = -\\log \\text{Softmax}(A(\\sum_{w \\in C} q_w) + b)\\end{align}\n",
        "\n",
        "where $q_w$ is the embedding for word $w$.\n",
        "\n",
        "Implement this model in Pytorch by filling in the class below. Some\n",
        "tips:\n",
        "\n",
        "* Think about which parameters you need to define.\n",
        "* Make sure you know what shape each operation expects. Use .view() if you need to\n",
        "  reshape.\n",
        "\n"
      ]
    },
    {
      "cell_type": "markdown",
      "metadata": {
        "id": "mV3V6Hp9BXm3"
      },
      "source": [
        "##  Data Preprocessing\n",
        "\n",
        "The CBOW model architecture tries to predict the current target word (the center word) based on the source context words (surrounding words). Considering a simple sentence, `the quick brown fox jumps over the lazy dog`, this can be pairs of (context_window, target_word) where if we consider a context size 2 (2 words to the left, 2 to the right),  we have examples like `([the, quick, fox, jumps], brown)` and so on. Thus the model tries to predict the target_word based on the context_window words.\n",
        "\n",
        "\n",
        "Therefore should build a list of tuples.  Each tuple is `([ word_i-2, word_i-1,word_i+1, word_i+2 ], target word)`, we also build dictionaries to map from words to indices, i.e. word_to_ix, and map from indices to words, i.e. ix_to_word,"
      ]
    },
    {
      "cell_type": "code",
      "execution_count": 10,
      "metadata": {
        "colab": {
          "base_uri": "https://localhost:8080/"
        },
        "id": "uig_MCiXBXm3",
        "outputId": "d2bdcb05-5b4a-4675-df1a-9989331fa06c"
      },
      "outputs": [
        {
          "output_type": "stream",
          "name": "stdout",
          "text": [
            "[(['We', 'are', 'to', 'study'], 'about'), (['are', 'about', 'study', 'the'], 'to'), (['about', 'to', 'the', 'idea'], 'study'), (['to', 'study', 'idea', 'of'], 'the'), (['study', 'the', 'of', 'a'], 'idea')]\n"
          ]
        }
      ],
      "source": [
        "import torch\n",
        "import torch.nn as nn\n",
        "\n",
        "\n",
        "CONTEXT_SIZE = 2  # 2 words to the left, 2 to the right\n",
        "EMBEDDING_DIM = 100\n",
        "\n",
        "raw_text = \"\"\"We are about to study the idea of a computational process.\n",
        "Computational processes are abstract beings that inhabit computers.\n",
        "As they evolve, processes manipulate other abstract things called data.\n",
        "The evolution of a process is directed by a pattern of rules\n",
        "called a program. People create programs to direct processes. In effect,\n",
        "we conjure the spirits of the computer with our spells.\"\"\".split()\n",
        "\n",
        "\n",
        "# By deriving a set from `raw_text`, we deduplicate the array\n",
        "vocab = set(raw_text)\n",
        "vocab_size = len(vocab)\n",
        "\n",
        "word_to_ix = {word:ix for ix, word in enumerate(vocab)}\n",
        "ix_to_word = {ix:word for ix, word in enumerate(vocab)}\n",
        "\n",
        "data = []\n",
        "for i in range(2, len(raw_text) - 2):\n",
        "    context = [raw_text[i - 2], raw_text[i - 1],\n",
        "               raw_text[i + 1], raw_text[i + 2]]\n",
        "    target = raw_text[i]\n",
        "    data.append((context, target))\n",
        "\n",
        "print(data[:5])"
      ]
    },
    {
      "cell_type": "markdown",
      "metadata": {
        "id": "HlCdxE3hBXm3"
      },
      "source": [
        "\n",
        "## Create CBoW Model\n",
        "Following is an image to illustrate the model architecture. We set the word embedding size to be 100 (or other by your preference)."
      ]
    },
    {
      "cell_type": "markdown",
      "metadata": {
        "id": "Aaud3MzXBXm3"
      },
      "source": [
        "![avatar](https://miro.medium.com/max/328/1*bkrBASpteKfCaxZDEEeN6g.png)"
      ]
    },
    {
      "cell_type": "code",
      "execution_count": 11,
      "metadata": {
        "id": "c83HvD2hjR4W",
        "scrolled": true
      },
      "outputs": [],
      "source": [
        "class CBOW(torch.nn.Module):\n",
        "    def __init__(self, vocab_size):\n",
        "        # === ADD CODE HERE ===\n",
        "        super().__init__()\n",
        "        self.embeddings = nn.Embedding(vocab_size, EMBEDDING_DIM)\n",
        "        self.linear = nn.Linear(2 * CONTEXT_SIZE * EMBEDDING_DIM, vocab_size)\n",
        "\n",
        "    def forward(self, inputs):\n",
        "         # === ADD CODE HERE ===\n",
        "         embeds = self.embeddings(inputs).view((1, -1))\n",
        "         out = self.linear(embeds)\n",
        "         log_probs = F.log_softmax(out, dim=1)\n",
        "         return log_probs\n",
        "\n",
        "# create your model and train.  here are some functions to help you make\n",
        "# the data ready for use by your module\n",
        "loss_function = nn.NLLLoss()\n",
        "model = CBOW(vocab_size)\n",
        "optimizer = optim.SGD(model.parameters(), lr=0.001)\n",
        "\n",
        "def make_context_vector(context, word_to_ix):\n",
        "    idxs = [word_to_ix[w] for w in context]\n",
        "    return torch.tensor(idxs, dtype=torch.long)\n",
        "\n",
        "\n",
        "#TRAINING\n",
        "for epoch in range(50):\n",
        "    # === ADD CODE HERE ===\n",
        "    total_loss = 0\n",
        "\n",
        "    for context, target in data:\n",
        "      context_idxs = make_context_vector(context, word_to_ix)\n",
        "\n",
        "      model.zero_grad()\n",
        "\n",
        "      log_probs = model(context_idxs)\n",
        "\n",
        "      loss = loss_function(log_probs, torch.tensor([word_to_ix[target]], dtype=torch.long))\n",
        "\n",
        "      loss.backward()\n",
        "      optimizer.step()\n",
        "\n",
        "      total_loss += loss.item()\n",
        "\n",
        "    average_loss = total_loss/len(data)\n",
        "    # print(\"Epoch:\", epoch, \"\\tLoss:\", average_loss)"
      ]
    },
    {
      "cell_type": "markdown",
      "metadata": {
        "id": "-NuH1cdmBXm3"
      },
      "source": [
        "##  Check the results\n",
        "\n",
        "Then we check the results by making predictions of target work by context"
      ]
    },
    {
      "cell_type": "code",
      "execution_count": 12,
      "metadata": {
        "scrolled": true,
        "colab": {
          "base_uri": "https://localhost:8080/"
        },
        "id": "Sp1_Tv_WBXm3",
        "outputId": "f0f59f3c-5516-4ecd-f8e0-5dc69a7c94d8"
      },
      "outputs": [
        {
          "output_type": "stream",
          "name": "stdout",
          "text": [
            "Raw text: We are about to study the idea of a computational process. Computational processes are abstract beings that inhabit computers. As they evolve, processes manipulate other abstract things called data. The evolution of a process is directed by a pattern of rules called a program. People create programs to direct processes. In effect, we conjure the spirits of the computer with our spells.\n",
            "\n",
            "Context: ['People', 'create', 'to', 'direct']\n",
            "\n",
            "Prediction: programs\n"
          ]
        }
      ],
      "source": [
        "context = ['People','create','to', 'direct']\n",
        "context_vector = make_context_vector(context, word_to_ix)\n",
        "a = model(context_vector)\n",
        "\n",
        "#Print result\n",
        "print(f'Raw text: {\" \".join(raw_text)}\\n')\n",
        "print(f'Context: {context}\\n')\n",
        "print(f'Prediction: {ix_to_word[torch.argmax(a[0]).item()]}')"
      ]
    },
    {
      "cell_type": "markdown",
      "metadata": {
        "id": "JJvDZqYoBXm3"
      },
      "source": [
        "# Practical part 2: Computing Word Embeddings in  `Alice in Wonderland` using CBoW"
      ]
    },
    {
      "cell_type": "markdown",
      "metadata": {
        "id": "8KqfdwtaBXm3"
      },
      "source": [
        "Now let's try to build word embedding in a ‘Alice in Wonderland’ instead of a toy example. The word-label mapping dictionaries and corpus are available [here](https://drive.google.com/drive/folders/1mYM29PbWQ4rS0bgKndFJjZlkbcwMaEpO?usp=sharing). You can use the cell bellow to download the necessary data in your working directory."
      ]
    },
    {
      "cell_type": "code",
      "execution_count": 13,
      "metadata": {
        "colab": {
          "base_uri": "https://localhost:8080/"
        },
        "id": "1BBVykYoBXm4",
        "outputId": "20c52e33-ec2d-4c17-ee3a-5ccf0fe3efd9"
      },
      "outputs": [
        {
          "output_type": "stream",
          "name": "stderr",
          "text": [
            "Retrieving folder contents\n"
          ]
        },
        {
          "output_type": "stream",
          "name": "stdout",
          "text": [
            "Processing file 1TGMG8jTqZBrJoJB_gGxd9vh8rtX7JuXw alice.json\n",
            "Processing file 1ECyNDt0sb8PD9A5LN8YYSUb6vmb1uj6W ix_to_word.json\n",
            "Processing file 1NYzP_0QSBFVNCZW6m7KAFA83LJUtU97Q word_to_ix.json\n"
          ]
        },
        {
          "output_type": "stream",
          "name": "stderr",
          "text": [
            "Retrieving folder contents completed\n",
            "Building directory structure\n",
            "Building directory structure completed\n",
            "Downloading...\n",
            "From: https://drive.google.com/uc?id=1TGMG8jTqZBrJoJB_gGxd9vh8rtX7JuXw\n",
            "To: /content/Word_embedding_data/alice.json\n",
            "100%|██████████| 78.0k/78.0k [00:00<00:00, 70.6MB/s]\n",
            "Downloading...\n",
            "From: https://drive.google.com/uc?id=1ECyNDt0sb8PD9A5LN8YYSUb6vmb1uj6W\n",
            "To: /content/Word_embedding_data/ix_to_word.json\n",
            "100%|██████████| 42.3k/42.3k [00:00<00:00, 48.7MB/s]\n",
            "Downloading...\n",
            "From: https://drive.google.com/uc?id=1NYzP_0QSBFVNCZW6m7KAFA83LJUtU97Q\n",
            "To: /content/Word_embedding_data/word_to_ix.json\n",
            "100%|██████████| 37.6k/37.6k [00:00<00:00, 56.5MB/s]\n",
            "Download completed\n"
          ]
        },
        {
          "output_type": "execute_result",
          "data": {
            "text/plain": [
              "['/content/Word_embedding_data/alice.json',\n",
              " '/content/Word_embedding_data/ix_to_word.json',\n",
              " '/content/Word_embedding_data/word_to_ix.json']"
            ]
          },
          "metadata": {},
          "execution_count": 13
        }
      ],
      "source": [
        "import gdown\n",
        "gdown.download_folder(\"https://drive.google.com/drive/folders/1mYM29PbWQ4rS0bgKndFJjZlkbcwMaEpO\")"
      ]
    },
    {
      "cell_type": "markdown",
      "metadata": {
        "id": "ko4XcqlnBXm4"
      },
      "source": [
        "##  Data Preprocessing"
      ]
    },
    {
      "cell_type": "code",
      "execution_count": 14,
      "metadata": {
        "id": "YCnr4hOkBXm4"
      },
      "outputs": [],
      "source": [
        "# modify the path according to your own file location\n",
        "import os\n",
        "data_path=os.path.join(\"/content/Word_embedding_data/\")\n",
        "# if you are not using Colab, change data_path above to where you stored the data locally"
      ]
    },
    {
      "cell_type": "markdown",
      "metadata": {
        "id": "eBaqVZbGBXm4"
      },
      "source": [
        "Now we load the data:"
      ]
    },
    {
      "cell_type": "code",
      "execution_count": 15,
      "metadata": {
        "id": "evoevzIPBXm4"
      },
      "outputs": [],
      "source": [
        "import json\n",
        "with open(os.path.join(data_path,\"alice.json\"),'r') as f:\n",
        "    alice = json.load(f)\n",
        "with open(os.path.join(data_path,\"ix_to_word.json\"),'r') as f:\n",
        "    ix_to_word = json.load(f)\n",
        "with open(os.path.join(data_path,\"word_to_ix.json\"),'r') as f:\n",
        "    word_to_ix = json.load(f)"
      ]
    },
    {
      "cell_type": "markdown",
      "metadata": {
        "id": "_di6dFQDBXm4"
      },
      "source": [
        "Then we create the context and target pairs by borrowing some keras utilities. We set the window_size 2 (2 words to the left, 2 to the right)."
      ]
    },
    {
      "cell_type": "code",
      "execution_count": 16,
      "metadata": {
        "id": "HBlrER5QBXm4",
        "outputId": "84b32c15-9a1e-4471-a17a-8945e67b6597",
        "colab": {
          "base_uri": "https://localhost:8080/"
        }
      },
      "outputs": [
        {
          "output_type": "stream",
          "name": "stderr",
          "text": [
            "<ipython-input-16-367b139e2256>:24: UserWarning: Creating a tensor from a list of numpy.ndarrays is extremely slow. Please consider converting the list to a single numpy.ndarray with numpy.array() before converting to a tensor. (Triggered internally at /pytorch/torch/csrc/utils/tensor_new.cpp:254.)\n",
            "  X=torch.tensor(X, dtype=torch.long)\n"
          ]
        }
      ],
      "source": [
        "window_size=2\n",
        "vocab_size=len(word_to_ix)\n",
        "\n",
        "from tensorflow.keras.preprocessing import text\n",
        "from tensorflow.keras.preprocessing import sequence\n",
        "from tensorflow.keras.utils import pad_sequences\n",
        "\n",
        "corpus = [[word_to_ix[w] for w in text.text_to_word_sequence(doc)] for doc in alice]\n",
        "\n",
        "def generate_context_word_pairs(corpus, window_size, vocab_size):\n",
        "    X = []\n",
        "    Y = []\n",
        "    context_length = window_size*2\n",
        "    for words in corpus:\n",
        "        sentence_length = len(words)\n",
        "        for index, word in enumerate(words):\n",
        "            start = index - window_size\n",
        "            end = index + window_size + 1\n",
        "            context = [words[i] for i in range(start, end)if 0 <= i < sentence_length and i != index]\n",
        "            x = pad_sequences([context], maxlen=context_length)[0]\n",
        "            X.append(x)\n",
        "            Y.append([word])\n",
        "\n",
        "    X=torch.tensor(X, dtype=torch.long)\n",
        "    Y=torch.tensor(Y, dtype=torch.long)\n",
        "    return X,Y\n",
        "\n",
        "X,Y = generate_context_word_pairs(corpus, window_size=window_size, vocab_size=vocab_size)"
      ]
    },
    {
      "cell_type": "markdown",
      "metadata": {
        "id": "DuziiMUbBXm4"
      },
      "source": [
        "\n",
        "##  Create CBoW Model\n",
        "Now we create CBoW model, we could set the word embedding size to be 100 (or  some other number if you prefer)."
      ]
    },
    {
      "cell_type": "code",
      "execution_count": 17,
      "metadata": {
        "id": "ZIg7PBdRBXm5"
      },
      "outputs": [],
      "source": [
        "class CBOW(torch.nn.Module):\n",
        "    def __init__(self, vocab_size, embedding_dim):\n",
        "        # === ADD CODE HERE ===\n",
        "        super().__init__()\n",
        "        self.embeddings = nn.Embedding(vocab_size, embedding_dim)\n",
        "        self.linear = nn.Linear(2 * CONTEXT_SIZE * embedding_dim, vocab_size)\n",
        "\n",
        "    def forward(self, inputs):\n",
        "         # === ADD CODE HERE ===\n",
        "         embeds = self.embeddings(inputs).view((1, -1))\n",
        "         out = self.linear(embeds)\n",
        "         log_probs = F.log_softmax(out, dim=1)\n",
        "         return log_probs\n",
        "\n",
        "\n",
        "EMBEDDING_DIM = 100\n",
        "model = CBOW(vocab_size, EMBEDDING_DIM)\n",
        "loss_function = nn.NLLLoss()\n",
        "optimizer = optim.SGD(model.parameters(), lr=0.001)"
      ]
    },
    {
      "cell_type": "markdown",
      "metadata": {
        "id": "X8Grs2GQBXm5"
      },
      "source": [
        "Remember to move your model to GPU, since now we are training with a larger corpus."
      ]
    },
    {
      "cell_type": "code",
      "execution_count": 18,
      "metadata": {
        "id": "ZwxSkn_LBXm8"
      },
      "outputs": [],
      "source": [
        "# Move model to GPU\n",
        "# === ADD CODE HERE ===\n",
        "device = torch.device(\"cuda:0\" if torch.cuda.is_available() else \"cpu\")\n",
        "model = model.to(device)\n",
        "X = X.to(device)\n",
        "Y = Y.to(device)"
      ]
    },
    {
      "cell_type": "markdown",
      "metadata": {
        "id": "ILPYEe5cBXm8"
      },
      "source": [
        "Then we train the model and print the loss. The loss should decrease with every epoch over the training data. You can play with the epochs numbers here."
      ]
    },
    {
      "cell_type": "code",
      "execution_count": 19,
      "metadata": {
        "colab": {
          "base_uri": "https://localhost:8080/"
        },
        "id": "cP4PBeqRBXm8",
        "outputId": "3d3931d8-f188-41df-cf20-f94bfaa890cd"
      },
      "outputs": [
        {
          "output_type": "stream",
          "name": "stdout",
          "text": [
            "Epoch: 0 \tLoss: 7.562359748909796\n",
            "Epoch: 1 \tLoss: 6.918841555716526\n",
            "Epoch: 2 \tLoss: 6.457574278855272\n",
            "Epoch: 3 \tLoss: 6.056339841654528\n",
            "Epoch: 4 \tLoss: 5.691718641403448\n",
            "Epoch: 5 \tLoss: 5.353740519215039\n",
            "Epoch: 6 \tLoss: 5.037354241989291\n",
            "Epoch: 7 \tLoss: 4.739766610304708\n",
            "Epoch: 8 \tLoss: 4.459206886504782\n",
            "Epoch: 9 \tLoss: 4.194469972559027\n",
            "Epoch: 10 \tLoss: 3.9446818999229296\n",
            "Epoch: 11 \tLoss: 3.7091697477316248\n",
            "Epoch: 12 \tLoss: 3.4873965358057317\n",
            "Epoch: 13 \tLoss: 3.2789258620084047\n",
            "Epoch: 14 \tLoss: 3.083396592719263\n",
            "Epoch: 15 \tLoss: 2.9005007058032177\n",
            "Epoch: 16 \tLoss: 2.7299571696771037\n",
            "Epoch: 17 \tLoss: 2.571479457972194\n",
            "Epoch: 18 \tLoss: 2.4247380979661757\n",
            "Epoch: 19 \tLoss: 2.2893292362934368\n"
          ]
        }
      ],
      "source": [
        "#TRAINING\n",
        "for epoch in range(20):\n",
        "# === ADD CODE HERE ===\n",
        "    total_loss = 0\n",
        "\n",
        "    for i in range(len(X)):\n",
        "      context = X[i]\n",
        "      target = Y[i]\n",
        "      model.zero_grad()\n",
        "\n",
        "      log_probs = model(context)\n",
        "      loss = loss_function(log_probs, target)\n",
        "\n",
        "      loss.backward()\n",
        "      optimizer.step()\n",
        "\n",
        "      total_loss += loss.item()\n",
        "\n",
        "    average_loss = total_loss/len(X)\n",
        "    print(\"Epoch:\", epoch, \"\\tLoss:\", average_loss)"
      ]
    },
    {
      "cell_type": "markdown",
      "metadata": {
        "id": "t2j4PtC4BXm8"
      },
      "source": [
        "# Practical. 3: Analogy Task"
      ]
    },
    {
      "cell_type": "markdown",
      "metadata": {
        "id": "yPd0JaOIBXm8"
      },
      "source": [
        "\n",
        "\n",
        "\n",
        "**Reading material**\n",
        "* [1] Mikolov, Tomas, et al. \"[Efficient Estimation of Word Representations in Vector Space](https://arxiv.org/abs/1301.3781)\" Advances in neural information processing systems. 2013.\n"
      ]
    },
    {
      "cell_type": "markdown",
      "metadata": {
        "id": "-kORuaiTBXm8"
      },
      "source": [
        "Implement your own function to perform the analogy task (see [1] for concrete examples). Use the same distance metric as in [1]. Your function should be able to answer whether an analogy like: \"a king is to a queen as a man is to a woman\" ($e_{king} - e_{queen} + e_{woman} \\approx e_{man}$) is true.\n",
        "\n",
        "In a perfect scenario, we would like that this analogy ($e_{king} - e_{queen} + e_{woman}$) results in the embedding of the word \"man\". However, it does not always result in exactly the same word embedding. The result of the formula is called the expected or the predicted word embedding. In this context, \"man\" is called the true or the actual word $t$. We want to find the word $p$ in the vocabulary, where the embedding of $p$ (referred to as $e_p$) is the closest to the predicted embedding (i.e. result of the formula). Then, we can check if $p$ is the same word as the true word $t$.  \n",
        "\n",
        "You have to answer an analogy function using each embedding for  CBOW model. Show the true word (with distance similarity value between predicted embedding and true word embedding, i.e. `sim1`) , the predicted word (with distance similarity value between predicted embedding and the embedding of the word in the vocabulary that is closest to this predicted embedding, i.e. `sim2`).\n",
        "\n",
        "Since `Alice in wonder land` is a relatively small dataset to training the model for the analogy task,  we may find it is difficult to get the correct answer by searching the nearest word embedding. Therefore, we extend the predicted word to the nearest `nr` number of words and check if the true word is within them. Do not expect the `nr` to be very small, it could be tens or hundreds."
      ]
    },
    {
      "cell_type": "markdown",
      "metadata": {
        "id": "Qipku5yABXm9"
      },
      "source": [
        "<b>HINT</b>: to visualize the results of the analogy tasks , you can print them in a table. An example is given below.\n",
        "\n",
        "\n",
        "| Analogy task | True word (sim1)  | Predicted nearaest word (sim2) | Correct? |True word within the top `nr` nearest word?|\n",
        "|:------:|:------:|:------:|:------:|:------:|\n",
        "|  queen is to king as woman is to ?\t | man (sim1) | predicted_word(sim2) | True / False |   True / False|"
      ]
    },
    {
      "cell_type": "code",
      "execution_count": 20,
      "metadata": {
        "id": "U4gQtr_sBXm9"
      },
      "outputs": [],
      "source": [
        "analogy=('queen', 'king', 'woman', 'man')"
      ]
    },
    {
      "cell_type": "markdown",
      "metadata": {
        "id": "AZS-Shh3BXm9"
      },
      "source": [
        "First let us extract the embeddings of all vocabularies for the following task"
      ]
    },
    {
      "cell_type": "code",
      "execution_count": 21,
      "metadata": {
        "id": "jUL_xq0ZBXm9"
      },
      "outputs": [],
      "source": [
        "dev = torch.device(\n",
        "    \"cuda\") if torch.cuda.is_available() else torch.device(\"cpu\")"
      ]
    },
    {
      "cell_type": "code",
      "execution_count": 22,
      "metadata": {
        "id": "hOkoj0_9BXm9"
      },
      "outputs": [],
      "source": [
        "embeddings = model.embeddings(torch.Tensor([list(range(0,vocab_size))]).long().to(dev))\n",
        "embeddings = embeddings.view(-1,100)\n",
        "embeddings = embeddings.cpu().detach().numpy()"
      ]
    },
    {
      "cell_type": "markdown",
      "metadata": {
        "id": "Xtsb63eKBXm9"
      },
      "source": [
        "Then we define a 'get_nearest_words' function to retrive the nearest `nr` words to a certain word embedding"
      ]
    },
    {
      "cell_type": "code",
      "execution_count": 87,
      "metadata": {
        "id": "4E4dIuH6BXm9"
      },
      "outputs": [],
      "source": [
        "nr = 500\n",
        "\n",
        "def get_distance(x, y):\n",
        "  return (np.dot(x,y) / (np.linalg.norm(x) * np.linalg.norm(y)))\n",
        "\n",
        "def get_nearest_words(prediction, embeddings):\n",
        "    # === ADD CODE HERE ===\n",
        "    distances = np.array([get_distance(prediction, embedding) for embedding in embeddings])\n",
        "    nearest_idxs = distances.argsort()[-nr:][::-1]\n",
        "    nearest = [(ix_to_word[str(i)], distances[int(i)]) for i in nearest_idxs]\n",
        "    return nearest"
      ]
    },
    {
      "cell_type": "markdown",
      "metadata": {
        "id": "BQmaR3tABXm9"
      },
      "source": [
        "Now let's search for the nearest `one` and `nr` words of the predicted word embedding, and print results of the analogy tasks"
      ]
    },
    {
      "cell_type": "code",
      "execution_count": 89,
      "metadata": {
        "id": "JB5bh3LBBXm-"
      },
      "outputs": [],
      "source": [
        "def print_analogy():\n",
        "    # === ADD CODE HERE ===\n",
        "    a, b, c, true_word = analogy\n",
        "    found_i = 0\n",
        "\n",
        "    a_vec = embeddings[word_to_ix[a]]\n",
        "    b_vec = embeddings[word_to_ix[b]]\n",
        "    c_vec = embeddings[word_to_ix[c]]\n",
        "\n",
        "    y_vec = b_vec - a_vec + c_vec\n",
        "    nearest = get_nearest_words(y_vec, embeddings)\n",
        "\n",
        "    for pred, dist in nearest:\n",
        "        print(f\"{pred} (score: {dist:.4f})\")\n",
        "        if pred == true_word:\n",
        "          break\n",
        "        found_i += 1\n",
        "\n",
        "    print()\n",
        "    print(f\"Expected answer: {true_word}\")\n",
        "    print(f\"Answer found at nr = {found_i}\")"
      ]
    },
    {
      "cell_type": "code",
      "execution_count": 90,
      "metadata": {
        "id": "cJL9-uXxBXm-",
        "outputId": "d9e9de75-07d0-45b6-f973-17353543416c",
        "colab": {
          "base_uri": "https://localhost:8080/"
        }
      },
      "outputs": [
        {
          "output_type": "stream",
          "name": "stdout",
          "text": [
            "king (score: 0.6615)\n",
            "woman (score: 0.5298)\n",
            "business (score: 0.3424)\n",
            "uncomfortable (score: 0.3291)\n",
            "respect (score: 0.2954)\n",
            "looking (score: 0.2863)\n",
            "pencil (score: 0.2856)\n",
            "taller (score: 0.2786)\n",
            "trial (score: 0.2755)\n",
            "tale (score: 0.2697)\n",
            "rise (score: 0.2688)\n",
            "immense (score: 0.2672)\n",
            "swallowing (score: 0.2631)\n",
            "tulip (score: 0.2613)\n",
            "pair (score: 0.2608)\n",
            "honour (score: 0.2608)\n",
            "rest (score: 0.2571)\n",
            "stop (score: 0.2555)\n",
            "v (score: 0.2553)\n",
            "drunk (score: 0.2480)\n",
            "stopped (score: 0.2445)\n",
            "gallons (score: 0.2436)\n",
            "paw (score: 0.2423)\n",
            "splash (score: 0.2406)\n",
            "splashing (score: 0.2395)\n",
            "night (score: 0.2367)\n",
            "jack (score: 0.2331)\n",
            "scratching (score: 0.2325)\n",
            "inkstand (score: 0.2321)\n",
            "past (score: 0.2320)\n",
            "immediate (score: 0.2316)\n",
            "away (score: 0.2312)\n",
            "journey (score: 0.2273)\n",
            "tongue (score: 0.2255)\n",
            "bristling (score: 0.2244)\n",
            "wooden (score: 0.2227)\n",
            "australia (score: 0.2221)\n",
            "felt (score: 0.2209)\n",
            "inwards (score: 0.2195)\n",
            "cannot (score: 0.2182)\n",
            "curls (score: 0.2182)\n",
            "sobbed (score: 0.2173)\n",
            "growled (score: 0.2149)\n",
            "complained (score: 0.2146)\n",
            "kind (score: 0.2130)\n",
            "sun (score: 0.2128)\n",
            "ashamed (score: 0.2112)\n",
            "darkness (score: 0.2111)\n",
            "classics (score: 0.2109)\n",
            "beau (score: 0.2087)\n",
            "royal (score: 0.2079)\n",
            "refused (score: 0.2068)\n",
            "long (score: 0.2067)\n",
            "men (score: 0.2051)\n",
            "words (score: 0.2050)\n",
            "sky (score: 0.2041)\n",
            "give (score: 0.2037)\n",
            "though (score: 0.2033)\n",
            "cheated (score: 0.2029)\n",
            "fork (score: 0.2022)\n",
            "strange (score: 0.2007)\n",
            "puzzle (score: 0.1998)\n",
            "skimming (score: 0.1985)\n",
            "northumbria (score: 0.1981)\n",
            "repeating (score: 0.1981)\n",
            "grazed (score: 0.1979)\n",
            "lefthand (score: 0.1976)\n",
            "caused (score: 0.1951)\n",
            "mournful (score: 0.1951)\n",
            "something (score: 0.1948)\n",
            "opposite (score: 0.1947)\n",
            "morning (score: 0.1943)\n",
            "pointed (score: 0.1936)\n",
            "afterwards (score: 0.1929)\n",
            "usual (score: 0.1915)\n",
            "leaning (score: 0.1903)\n",
            "tremble (score: 0.1902)\n",
            "someone (score: 0.1887)\n",
            "breeze (score: 0.1857)\n",
            "executions (score: 0.1851)\n",
            "carroll (score: 0.1848)\n",
            "annoyed (score: 0.1821)\n",
            "stretched (score: 0.1821)\n",
            "happens (score: 0.1815)\n",
            "dogs (score: 0.1812)\n",
            "writing (score: 0.1811)\n",
            "cart (score: 0.1806)\n",
            "waistcoat (score: 0.1804)\n",
            "fighting (score: 0.1798)\n",
            "proves (score: 0.1779)\n",
            "hjckrrh (score: 0.1773)\n",
            "known (score: 0.1772)\n",
            "verse (score: 0.1767)\n",
            "real (score: 0.1760)\n",
            "table (score: 0.1758)\n",
            "always (score: 0.1751)\n",
            "present (score: 0.1751)\n",
            "unpleasant (score: 0.1750)\n",
            "crawling (score: 0.1746)\n",
            "modern (score: 0.1741)\n",
            "instance (score: 0.1740)\n",
            "us (score: 0.1730)\n",
            "kid (score: 0.1729)\n",
            "haste (score: 0.1716)\n",
            "used (score: 0.1711)\n",
            "floor (score: 0.1708)\n",
            "supple (score: 0.1705)\n",
            "screaming (score: 0.1686)\n",
            "eagerly (score: 0.1683)\n",
            "added (score: 0.1678)\n",
            "poison (score: 0.1676)\n",
            "nile (score: 0.1675)\n",
            "bathing (score: 0.1672)\n",
            "heavy (score: 0.1670)\n",
            "plan (score: 0.1667)\n",
            "respectable (score: 0.1667)\n",
            "pieces (score: 0.1665)\n",
            "fear (score: 0.1658)\n",
            "drink (score: 0.1658)\n",
            "voice (score: 0.1642)\n",
            "straight (score: 0.1642)\n",
            "matters (score: 0.1632)\n",
            "pegs (score: 0.1629)\n",
            "tis (score: 0.1611)\n",
            "pleasanter (score: 0.1609)\n",
            "poured (score: 0.1608)\n",
            "knee (score: 0.1608)\n",
            "rat (score: 0.1607)\n",
            "circumstances (score: 0.1603)\n",
            "neither (score: 0.1601)\n",
            "luckily (score: 0.1600)\n",
            "contemptuous (score: 0.1596)\n",
            "sang (score: 0.1594)\n",
            "seated (score: 0.1589)\n",
            "frowning (score: 0.1588)\n",
            "coast (score: 0.1587)\n",
            "wife (score: 0.1584)\n",
            "forgot (score: 0.1577)\n",
            "several (score: 0.1576)\n",
            "yelp (score: 0.1575)\n",
            "sob (score: 0.1568)\n",
            "favoured (score: 0.1563)\n",
            "neat (score: 0.1550)\n",
            "banks (score: 0.1547)\n",
            "kneel (score: 0.1545)\n",
            "likely (score: 0.1542)\n",
            "busy (score: 0.1535)\n",
            "uneasily (score: 0.1533)\n",
            "procession (score: 0.1529)\n",
            "followed (score: 0.1528)\n",
            "cheered (score: 0.1527)\n",
            "brought (score: 0.1524)\n",
            "sides (score: 0.1524)\n",
            "different (score: 0.1517)\n",
            "laughter (score: 0.1516)\n",
            "useful (score: 0.1515)\n",
            "grown (score: 0.1503)\n",
            "terror (score: 0.1493)\n",
            "person (score: 0.1490)\n",
            "trot (score: 0.1489)\n",
            "poky (score: 0.1488)\n",
            "drinking (score: 0.1479)\n",
            "great (score: 0.1475)\n",
            "dripping (score: 0.1474)\n",
            "tie (score: 0.1461)\n",
            "taste (score: 0.1460)\n",
            "shoulder (score: 0.1459)\n",
            "indignant (score: 0.1458)\n",
            "fluttered (score: 0.1455)\n",
            "shrimp (score: 0.1452)\n",
            "caught (score: 0.1451)\n",
            "swam (score: 0.1442)\n",
            "muddle (score: 0.1437)\n",
            "lying (score: 0.1436)\n",
            "ornamented (score: 0.1435)\n",
            "little (score: 0.1434)\n",
            "flamingoes (score: 0.1433)\n",
            "charges (score: 0.1430)\n",
            "advantage (score: 0.1427)\n",
            "alive (score: 0.1422)\n",
            "adoption (score: 0.1420)\n",
            "daisy (score: 0.1416)\n",
            "first (score: 0.1414)\n",
            "lose (score: 0.1413)\n",
            "busily (score: 0.1413)\n",
            "trees (score: 0.1412)\n",
            "win (score: 0.1408)\n",
            "sat (score: 0.1405)\n",
            "uncorked (score: 0.1404)\n",
            "ears (score: 0.1398)\n",
            "personal (score: 0.1397)\n",
            "tears (score: 0.1396)\n",
            "quickly (score: 0.1396)\n",
            "execution (score: 0.1395)\n",
            "mentioned (score: 0.1387)\n",
            "hurry (score: 0.1386)\n",
            "changed (score: 0.1386)\n",
            "climb (score: 0.1386)\n",
            "humble (score: 0.1385)\n",
            "takes (score: 0.1385)\n",
            "feelings (score: 0.1379)\n",
            "knock (score: 0.1374)\n",
            "ointment (score: 0.1373)\n",
            "warning (score: 0.1373)\n",
            "mary (score: 0.1371)\n",
            "severity (score: 0.1371)\n",
            "twenty (score: 0.1368)\n",
            "quicker (score: 0.1367)\n",
            "prizes (score: 0.1366)\n",
            "egg (score: 0.1363)\n",
            "simple (score: 0.1363)\n",
            "instantly (score: 0.1360)\n",
            "pressing (score: 0.1347)\n",
            "sixpence (score: 0.1347)\n",
            "explanation (score: 0.1344)\n",
            "sluggard (score: 0.1341)\n",
            "reading (score: 0.1340)\n",
            "examining (score: 0.1340)\n",
            "lazily (score: 0.1338)\n",
            "alternately (score: 0.1335)\n",
            "hatching (score: 0.1332)\n",
            "morals (score: 0.1329)\n",
            "stigand (score: 0.1325)\n",
            "resting (score: 0.1322)\n",
            "cost (score: 0.1313)\n",
            "fitted (score: 0.1308)\n",
            "smallest (score: 0.1307)\n",
            "teacup (score: 0.1307)\n",
            "towards (score: 0.1305)\n",
            "arches (score: 0.1304)\n",
            "thinking (score: 0.1302)\n",
            "sage (score: 0.1300)\n",
            "eels (score: 0.1299)\n",
            "pet (score: 0.1297)\n",
            "verses (score: 0.1296)\n",
            "accident (score: 0.1295)\n",
            "rude (score: 0.1292)\n",
            "absurd (score: 0.1290)\n",
            "calmly (score: 0.1289)\n",
            "called (score: 0.1288)\n",
            "weeks (score: 0.1288)\n",
            "grins (score: 0.1285)\n",
            "shaking (score: 0.1283)\n",
            "front (score: 0.1282)\n",
            "shoes (score: 0.1281)\n",
            "choked (score: 0.1279)\n",
            "however (score: 0.1279)\n",
            "stand (score: 0.1279)\n",
            "elbow (score: 0.1279)\n",
            "gravy (score: 0.1277)\n",
            "farm (score: 0.1269)\n",
            "time (score: 0.1264)\n",
            "buttons (score: 0.1263)\n",
            "crocodile (score: 0.1261)\n",
            "peeped (score: 0.1260)\n",
            "rudeness (score: 0.1259)\n",
            "giving (score: 0.1259)\n",
            "rising (score: 0.1258)\n",
            "pretexts (score: 0.1256)\n",
            "course (score: 0.1252)\n",
            "silence (score: 0.1252)\n",
            "butterfly (score: 0.1250)\n",
            "engaged (score: 0.1246)\n",
            "tiny (score: 0.1244)\n",
            "stood (score: 0.1241)\n",
            "existence (score: 0.1240)\n",
            "settling (score: 0.1240)\n",
            "man (score: 0.1239)\n",
            "\n",
            "Expected answer: man\n",
            "Answer found at nr = 267\n"
          ]
        }
      ],
      "source": [
        "print_analogy()"
      ]
    }
  ],
  "metadata": {
    "colab": {
      "name": "P1.2_Word_embedding.ipynb",
      "provenance": [],
      "gpuType": "T4",
      "include_colab_link": true
    },
    "kernelspec": {
      "display_name": "Python 3",
      "name": "python3"
    },
    "language_info": {
      "codemirror_mode": {
        "name": "ipython",
        "version": 3
      },
      "file_extension": ".py",
      "mimetype": "text/x-python",
      "name": "python",
      "nbconvert_exporter": "python",
      "pygments_lexer": "ipython3",
      "version": "3.12.3"
    },
    "accelerator": "GPU"
  },
  "nbformat": 4,
  "nbformat_minor": 0
}